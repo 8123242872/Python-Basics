{
  "nbformat": 4,
  "nbformat_minor": 0,
  "metadata": {
    "colab": {
      "provenance": []
    },
    "kernelspec": {
      "name": "python3",
      "display_name": "Python 3"
    },
    "language_info": {
      "name": "python"
    }
  },
  "cells": [
    {
      "cell_type": "code",
      "execution_count": null,
      "metadata": {
        "id": "qZvWHePiSpVd"
      },
      "outputs": [],
      "source": []
    },
    {
      "cell_type": "markdown",
      "source": [],
      "metadata": {
        "id": "y6LiE0lNS3-f"
      }
    },
    {
      "cell_type": "markdown",
      "source": [],
      "metadata": {
        "id": "40mkUqLcS5yt"
      }
    },
    {
      "cell_type": "markdown",
      "source": [
        "# Python Basics Assignment"
      ],
      "metadata": {
        "id": "1kHgJVA2S7Om"
      }
    },
    {
      "cell_type": "markdown",
      "source": [
        "1.What is python and why it is popular?\n",
        "  \n",
        "   Python is a programming language that is easy to understand and write, making it a popular choice among developers and programmers.\n",
        "\n",
        "2. What is an interpreter in Python?\n",
        "\n",
        "  In Python, an interpreter is a program that reads and executes Python code line by line, translating it into machine-readable instructions\n",
        "\n",
        "3. What are pre-defined keywords in Python?\n",
        "   Keywords are reserved words in Python that have special meanings and cannot be used as identifiers (variable names, function names, etc.).\n",
        "\n",
        "4. Can keywords be used as variable names?\n",
        "   No, you cannot use Python keywords as variable names because they are reserved words with specific meanings in the language's syntax\n",
        "\n",
        "5. What is mutability in Python?\n",
        "   In Python, mutability refers to an object's ability to be changed after its creation.\n",
        "\n",
        "6. Why are lists mutable, but tuples are immutable?\n",
        "   Lists are considered mutable data types because they can be modified or changed after they are create but tuples use parentheses instead of square brackets, and the items in tuples cannot be modified\n",
        "\n",
        "7. What is the difference between “==” and “is” operators in Python?\n",
        "   In Python, == checks for value equality (whether two objects have the same content), while is checks for object identity (whether two variables point to the same object in memory\n",
        "\n",
        "8. What are logical operators in Python?\n",
        "   In Python, logical operators, also known as Boolean operators, are used to combine or modify boolean expressions, evaluating to either True or False. The main logical operators are and, or, and not.\n",
        "\n",
        "9. What is type casting in Python?\n",
        "   Type casting, also referred to as type conversion, is the process of changing one data type to another in Python.\n",
        "\n",
        "10.What is the difference between implicit and explicit type casting?\n",
        "   In Python, implicit type casting (or conversion) happens automatically by the interpreter, while explicit type casting (or conversion) requires the programmer to use built-in functions like int(), float(), or str() to convert data types.\n",
        "\n",
        "11.What is the purpose of conditional statements in Python?\n",
        "   Conditionals in Python are used to execute code based on the evaluation of one or more conditions.\n",
        "\n",
        "12.How does the elif statement work?\n",
        "   The “elif” keyword in Python, stands for “else if”. It can be used in conditional statements to check for multiple conditions. For example, if the first condition is false, it moves on to the next “elif” statement to check if that condition is true.\n",
        "\n",
        "13.What is the difference between for and while loops?\n",
        "   “for” loops are used for iterating over a sequence of elements, while “while” loops are used for executing code until a specified condition becomes False.\n",
        "\n",
        "14.Describe a scenario where a while loop is more suitable than a for loop.\n",
        "   Iamgine,You don't know how many lines the file contains, so you need a loop that keeps reading line by line until there are no more lines to read. In such a case, a \"While Loop\" is more appropriate because the number of iterations needed isn't known in advance.\n",
        "   "
      ],
      "metadata": {
        "id": "NLwyfRthTFXt"
      }
    },
    {
      "cell_type": "code",
      "source": [
        "# 1.Write a Python program to print \"Hello, World!\n",
        "print(\"hello world\")"
      ],
      "metadata": {
        "colab": {
          "base_uri": "https://localhost:8080/"
        },
        "id": "zV0MkLY7aQF8",
        "outputId": "6eae7763-ca92-43a1-fcc6-fe0328334723"
      },
      "execution_count": 2,
      "outputs": [
        {
          "output_type": "stream",
          "name": "stdout",
          "text": [
            "hello world\n"
          ]
        }
      ]
    },
    {
      "cell_type": "code",
      "source": [
        "# 2.Write a Python program that displays your name and age\n",
        "age = input(\"Enter age: \")\n",
        "name = input(\"Enter name: \")\n",
        "print(\"Hi, my name is \" + name + \", and I am \" + age + \" years old.\")"
      ],
      "metadata": {
        "id": "iij7yFsSao2E"
      },
      "execution_count": null,
      "outputs": []
    },
    {
      "cell_type": "code",
      "source": [
        "# 3.Write code to print all the pre-defined keywords in Python using the keyword library\n",
        "import keyword\n",
        "\n",
        "# Print all pre-defined keywords in Python\n",
        "print(keyword.kwlist)"
      ],
      "metadata": {
        "colab": {
          "base_uri": "https://localhost:8080/"
        },
        "id": "2Dp6hkd9j6M3",
        "outputId": "4ca32beb-6bf6-4a75-8307-5fd33a4c47c7"
      },
      "execution_count": 15,
      "outputs": [
        {
          "output_type": "stream",
          "name": "stdout",
          "text": [
            "['False', 'None', 'True', 'and', 'as', 'assert', 'async', 'await', 'break', 'class', 'continue', 'def', 'del', 'elif', 'else', 'except', 'finally', 'for', 'from', 'global', 'if', 'import', 'in', 'is', 'lambda', 'nonlocal', 'not', 'or', 'pass', 'raise', 'return', 'try', 'while', 'with', 'yield']\n"
          ]
        }
      ]
    },
    {
      "cell_type": "code",
      "source": [
        "# 4.Write a program that checks if a given word is a Python keyword\n",
        "import keyword\n",
        "\n",
        "# Function to check if a word is a Python keyword\n",
        "def is_python_keyword(word):\n",
        "    if keyword.iskeyword(word):\n",
        "        return True\n",
        "    else:\n",
        "        return False\n",
        "\n",
        "# Input from user\n",
        "word = input(\"Enter a word to check if it is a Python keyword: \")\n",
        "\n",
        "# Check and output result\n",
        "if is_python_keyword(word):\n",
        "    print(f\"'{word}' is a Python keyword.\")\n",
        "else:\n",
        "    print(f\"'{word}' is not a Python keyword.\")"
      ],
      "metadata": {
        "id": "aGz1WwBgkJXC"
      },
      "execution_count": null,
      "outputs": []
    },
    {
      "cell_type": "code",
      "source": [
        "# 5.Create a list and tuple in Python, and demonstrate how attempting to change an element works differently for each\n",
        "# Create a list\n",
        "my_list = [1, 2, 3, 4]\n",
        "# Create a tuple\n",
        "my_tuple = (1, 2, 3, 4)\n",
        "\n",
        "# Try changing an element in the list\n",
        "print(\"Original list:\", my_list)\n",
        "my_list[0] = 100  # Changing the first element of the list\n",
        "print(\"Modified list:\", my_list)\n",
        "\n",
        "# Try changing an element in the tuple\n",
        "print(\"Original tuple:\", my_tuple)\n",
        "try:\n",
        "    my_tuple[0] = 100  # Attempting to change the first element of the tuple\n",
        "except TypeError as e:\n",
        "    print(f\"Error: {e}\")"
      ],
      "metadata": {
        "colab": {
          "base_uri": "https://localhost:8080/"
        },
        "id": "mIKQ3yBkkguP",
        "outputId": "3b5fbffa-e01d-4723-8e20-e17f4f0b6635"
      },
      "execution_count": 16,
      "outputs": [
        {
          "output_type": "stream",
          "name": "stdout",
          "text": [
            "Original list: [1, 2, 3, 4]\n",
            "Modified list: [100, 2, 3, 4]\n",
            "Original tuple: (1, 2, 3, 4)\n",
            "Error: 'tuple' object does not support item assignment\n"
          ]
        }
      ]
    },
    {
      "cell_type": "code",
      "source": [
        "# 6.Write a function to demonstrate the behavior of mutable and immutable arguments\n",
        "def demonstrate_mutable_immutable(arg1, arg2):\n",
        "    # Demonstrating with a mutable argument (list)\n",
        "    print(\"Before modifying mutable argument (list):\", arg1)\n",
        "    arg1.append(4)  # Modifying the mutable list\n",
        "    print(\"After modifying mutable argument (list):\", arg1)\n",
        "\n",
        "    # Demonstrating with an immutable argument (integer)\n",
        "    print(\"Before modifying immutable argument (integer):\", arg2)\n",
        "    arg2 += 5  # Reassigning a new value to the immutable integer\n",
        "    print(\"After modifying immutable argument (integer):\", arg2)\n",
        "\n",
        "# Create a mutable list and an immutable integer\n",
        "my_list = [1, 2, 3]\n",
        "my_int = 10\n",
        "\n",
        "# Call the function with mutable and immutable arguments\n",
        "demonstrate_mutable_immutable(my_list, my_int)\n",
        "\n",
        "# Print the values outside the function to show the effect\n",
        "print(\"Outside the function - Mutable list:\", my_list)\n",
        "print(\"Outside the function - Immutable integer:\", my_int)"
      ],
      "metadata": {
        "colab": {
          "base_uri": "https://localhost:8080/"
        },
        "id": "4wSOP-LQk2vx",
        "outputId": "c622352d-f78c-409e-d77a-de8b06ba3b75"
      },
      "execution_count": 17,
      "outputs": [
        {
          "output_type": "stream",
          "name": "stdout",
          "text": [
            "Before modifying mutable argument (list): [1, 2, 3]\n",
            "After modifying mutable argument (list): [1, 2, 3, 4]\n",
            "Before modifying immutable argument (integer): 10\n",
            "After modifying immutable argument (integer): 15\n",
            "Outside the function - Mutable list: [1, 2, 3, 4]\n",
            "Outside the function - Immutable integer: 10\n"
          ]
        }
      ]
    },
    {
      "cell_type": "code",
      "source": [
        "# 7.Write a function to demonstrate the behavior of mutable and immutable arguments\n",
        "def demonstrate_mutable_immutable(mutable_arg, immutable_arg):\n",
        "    # Demonstrating with a mutable argument (list)\n",
        "    print(\"Before modifying mutable argument (list):\", mutable_arg)\n",
        "    mutable_arg.append(100)  # Modifying the mutable list (add 100)\n",
        "    print(\"After modifying mutable argument (list):\", mutable_arg)\n",
        "\n",
        "    # Demonstrating with an immutable argument (integer)\n",
        "    print(\"Before modifying immutable argument (integer):\", immutable_arg)\n",
        "    immutable_arg += 10  # Reassigning a new value to the immutable integer\n",
        "    print(\"After modifying immutable argument (integer):\", immutable_arg)\n",
        "\n",
        "# Create a mutable list and an immutable integer\n",
        "mutable_list = [1, 2, 3]\n",
        "immutable_int = 5\n",
        "\n",
        "# Call the function with mutable and immutable arguments\n",
        "demonstrate_mutable_immutable(mutable_list, immutable_int)\n",
        "\n",
        "# Print the values outside the function to show the effect\n",
        "print(\"Outside the function - Mutable list:\", mutable_list)\n",
        "print(\"Outside the function - Immutable integer:\", immutable_int)"
      ],
      "metadata": {
        "colab": {
          "base_uri": "https://localhost:8080/"
        },
        "id": "Apv6593TlI5P",
        "outputId": "9e4db424-cc7b-4416-deda-f04bef3800b4"
      },
      "execution_count": 18,
      "outputs": [
        {
          "output_type": "stream",
          "name": "stdout",
          "text": [
            "Before modifying mutable argument (list): [1, 2, 3]\n",
            "After modifying mutable argument (list): [1, 2, 3, 100]\n",
            "Before modifying immutable argument (integer): 5\n",
            "After modifying immutable argument (integer): 15\n",
            "Outside the function - Mutable list: [1, 2, 3, 100]\n",
            "Outside the function - Immutable integer: 5\n"
          ]
        }
      ]
    },
    {
      "cell_type": "code",
      "source": [
        "# 8.Write a program to demonstrate the use of logical operators\n",
        "# Define some sample conditions\n",
        "a = 10\n",
        "b = 20\n",
        "c = 5\n",
        "\n",
        "# Demonstrating 'and' logical operator\n",
        "if a < b and b > c:\n",
        "    print(\"Condition using 'and' is True: a < b and b > c\")\n",
        "\n",
        "# Demonstrating 'or' logical operator\n",
        "if a < b or a > c:\n",
        "    print(\"Condition using 'or' is True: a < b or a > c\")\n",
        "\n",
        "# Demonstrating 'not' logical operator\n",
        "if not a == c:\n",
        "    print(\"Condition using 'not' is True: not a == c\")\n",
        "\n",
        "# More complex logical expression\n",
        "if (a < b or b < c) and not a == c:\n",
        "    print(\"Complex condition using 'and', 'or', and 'not' is True\")"
      ],
      "metadata": {
        "colab": {
          "base_uri": "https://localhost:8080/"
        },
        "id": "ISaD8siJlc4H",
        "outputId": "3a569fa2-312b-41ac-9286-14cd462effda"
      },
      "execution_count": 19,
      "outputs": [
        {
          "output_type": "stream",
          "name": "stdout",
          "text": [
            "Condition using 'and' is True: a < b and b > c\n",
            "Condition using 'or' is True: a < b or a > c\n",
            "Condition using 'not' is True: not a == c\n",
            "Complex condition using 'and', 'or', and 'not' is True\n"
          ]
        }
      ]
    },
    {
      "cell_type": "code",
      "source": [
        "# 9. Write a Python program to convert user input from string to integer, float, and boolean types\n",
        "# Get user input as a string\n",
        "user_input = input(\"Enter something: \")\n",
        "\n",
        "# Convert the input to an integer (if possible)\n",
        "try:\n",
        "    user_input_int = int(user_input)\n",
        "    print(f\"Converted to integer: {user_input_int}\")\n",
        "except ValueError:\n",
        "    print(\"Cannot convert to integer.\")\n",
        "\n",
        "# Convert the input to a float (if possible)\n",
        "try:\n",
        "    user_input_float = float(user_input)\n",
        "    print(f\"Converted to float: {user_input_float}\")\n",
        "except ValueError:\n",
        "    print(\"Cannot convert to float.\")\n",
        "\n",
        "# Convert the input to a boolean\n",
        "# An empty string is considered False, otherwise True\n",
        "user_input_bool = bool(user_input)\n",
        "print(f\"Converted to boolean: {user_input_bool}\")"
      ],
      "metadata": {
        "id": "2T6G7xR9mZfp"
      },
      "execution_count": null,
      "outputs": []
    },
    {
      "cell_type": "code",
      "source": [
        "# 10.Write code to demonstrate type casting with list elements\n",
        "# Original list with different types of elements (string, float, etc.)\n",
        "original_list = ['10', '3.14', 'True', '100']\n",
        "\n",
        "# Convert all elements to integers\n",
        "int_list = [int(x) if x.isdigit() else 0 for x in original_list]  # Convert to int, if possible\n",
        "print(\"Converted to integer list:\", int_list)\n",
        "\n",
        "# Convert all elements to floats\n",
        "float_list = [float(x) if x.replace('.', '', 1).isdigit() else 0.0 for x in original_list]  # Convert to float, if possible\n",
        "print(\"Converted to float list:\", float_list)\n",
        "\n",
        "# Convert all elements to boolean\n",
        "bool_list = [bool(x) for x in original_list]  # Convert to boolean (non-empty string is True)\n",
        "print(\"Converted to boolean list:\", bool_list)"
      ],
      "metadata": {
        "id": "yRRo-yEAmjM3"
      },
      "execution_count": null,
      "outputs": []
    },
    {
      "cell_type": "code",
      "source": [
        "# 11.Write a program that checks if a number is positive, negative, or zero\n",
        "# Get user input\n",
        "number = float(input(\"Enter a number: \"))\n",
        "\n",
        "# Check if the number is positive, negative, or zero\n",
        "if number > 0:\n",
        "    print(\"The number is positive.\")\n",
        "elif number < 0:\n",
        "    print(\"The number is negative.\")\n",
        "else:\n",
        "    print(\"The number is zero.\")"
      ],
      "metadata": {
        "id": "Zh9MwSG1mwpV"
      },
      "execution_count": null,
      "outputs": []
    },
    {
      "cell_type": "code",
      "source": [
        "# 12.Write a for loop to print numbers from 1 to 10\n",
        "# Using a for loop to print numbers from 1 to 10\n",
        "for number in range(1, 11):\n",
        "    print(number)"
      ],
      "metadata": {
        "id": "NQvKh_7fm3xk"
      },
      "execution_count": null,
      "outputs": []
    },
    {
      "cell_type": "code",
      "source": [
        "# 13.Write a Python program to find the sum of all even numbers between 1 and 50\n",
        "# Initialize the sum to 0\n",
        "sum_even_numbers = 0\n",
        "\n",
        "# Loop through numbers from 1 to 50\n",
        "for number in range(1, 51):\n",
        "    # Check if the number is even\n",
        "    if number % 2 == 0:\n",
        "        sum_even_numbers += number  # Add the even number to the sum\n",
        "\n",
        "# Print the result\n",
        "print(\"The sum of all even numbers between 1 and 50 is:\", sum_even_numbers)"
      ],
      "metadata": {
        "id": "goxgENYKnCUe"
      },
      "execution_count": null,
      "outputs": []
    },
    {
      "cell_type": "code",
      "source": [
        "# 14.Write a program to reverse a string using a while loop\n",
        "# Input string from the user\n",
        "input_string = input(\"Enter a string: \")\n",
        "\n",
        "# Initialize an empty string to store the reversed string\n",
        "reversed_string = \"\"\n",
        "\n",
        "# Initialize a counter to track the index of the input string\n",
        "index = len(input_string) - 1\n",
        "\n",
        "# Use a while loop to reverse the string\n",
        "while index >= 0:\n",
        "    reversed_string += input_string[index]  # Add the character to the reversed string\n",
        "    index -= 1  # Move to the previous character\n",
        "\n",
        "# Print the reversed string\n",
        "print(\"Reversed string:\", reversed_string)"
      ],
      "metadata": {
        "id": "q2s_YODxnLiv"
      },
      "execution_count": null,
      "outputs": []
    },
    {
      "cell_type": "code",
      "source": [
        "# 15.Write a Python program to calculate the factorial of a number provided by the user using a while loop\n",
        "# Input: Get the number from the user\n",
        "number = int(input(\"Enter a number to calculate its factorial: \"))\n",
        "\n",
        "# Initialize the factorial result to 1 (since factorial of 0 is 1)\n",
        "factorial = 1\n",
        "\n",
        "# Check if the number is non-negative\n",
        "if number < 0:\n",
        "    print(\"Factorial is not defined for negative numbers.\")\n",
        "else:\n",
        "    # Use a while loop to calculate the factorial\n",
        "    while number > 1:\n",
        "        factorial *= number  # Multiply factorial by the current number\n",
        "        number -= 1  # Decrease the number by 1\n",
        "\n",
        "    # Print the result\n",
        "    print(\"The factorial is:\", factorial)"
      ],
      "metadata": {
        "id": "hC6-H8iJnVdm"
      },
      "execution_count": null,
      "outputs": []
    }
  ]
}